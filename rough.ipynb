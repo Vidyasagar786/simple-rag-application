{
 "cells": [
  {
   "cell_type": "code",
   "execution_count": 6,
   "id": "f7a5277b",
   "metadata": {},
   "outputs": [
    {
     "name": "stdout",
     "output_type": "stream",
     "text": [
      "tool is called\n",
      "Finance data for GOOG: \n",
      "Query: GOOG\n",
      "No summary information\n",
      "\n",
      "\n",
      "Query: GOOG\n",
      "No summary information\n",
      "\n"
     ]
    }
   ],
   "source": [
    "from langchain_community.utilities import GoogleFinanceAPIWrapper\n",
    "from streamlit_app.config import Config\n",
    "def get_finance_data(ticker: str) -> str:\n",
    "    \"\"\"Get finance data for a ticker symbol (e.g. 'AAPL').\"\"\"\n",
    "    try:\n",
    "        print(\"tool is called\")\n",
    "        finance = GoogleFinanceAPIWrapper(serp_api_key=Config.SERP_API_KEY)\n",
    "        print(f\"Finance data for {ticker}: {finance.run(ticker)}\")\n",
    "        return finance.run(ticker)\n",
    "    except Exception as e:\n",
    "        return f\"Finance tool error: {str(e)}\"\n",
    "\n",
    "a = get_finance_data(\"GOOG\")\n",
    "print(a)\n"
   ]
  },
  {
   "cell_type": "code",
   "execution_count": null,
   "id": "d94ce5a4",
   "metadata": {},
   "outputs": [],
   "source": []
  }
 ],
 "metadata": {
  "kernelspec": {
   "display_name": "base",
   "language": "python",
   "name": "python3"
  },
  "language_info": {
   "codemirror_mode": {
    "name": "ipython",
    "version": 3
   },
   "file_extension": ".py",
   "mimetype": "text/x-python",
   "name": "python",
   "nbconvert_exporter": "python",
   "pygments_lexer": "ipython3",
   "version": "3.13.5"
  }
 },
 "nbformat": 4,
 "nbformat_minor": 5
}
